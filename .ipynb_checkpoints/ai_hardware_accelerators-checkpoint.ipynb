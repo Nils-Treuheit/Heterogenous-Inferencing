{
 "cells": [
  {
   "cell_type": "markdown",
   "metadata": {
    "colab_type": "text",
    "id": "view-in-github"
   },
   "source": [
    "<a href=\"https://colab.research.google.com/github/Nils-Treuheit/Heterogenous-Inferencing/blob/main/ai_hardware_accelerators.ipynb\" target=\"_parent\"><img src=\"https://colab.research.google.com/assets/colab-badge.svg\" alt=\"Open In Colab\"/></a>"
   ]
  },
  {
   "cell_type": "code",
   "execution_count": 1,
   "metadata": {
    "colab": {
     "base_uri": "https://localhost:8080/"
    },
    "id": "4ghjtz04EoA-",
    "outputId": "e61f91f8-d2f7-4294-9638-0c106fe3d972"
   },
   "outputs": [
    {
     "name": "stdout",
     "output_type": "stream",
     "text": [
      "INFO:tensorflow:Assets written to: /tmp/tmpylhcue2v/assets\n"
     ]
    },
    {
     "name": "stderr",
     "output_type": "stream",
     "text": [
      "WARNING:absl:Buffer deduplication procedure will be skipped when flatbuffer library is not properly loaded\n"
     ]
    },
    {
     "name": "stdout",
     "output_type": "stream",
     "text": [
      "INFO:tensorflow:Assets written to: /tmp/tmpvvgfress/assets\n"
     ]
    },
    {
     "name": "stderr",
     "output_type": "stream",
     "text": [
      "INFO:tensorflow:Assets written to: /tmp/tmpvvgfress/assets\n",
      "WARNING:absl:Buffer deduplication procedure will be skipped when flatbuffer library is not properly loaded\n"
     ]
    },
    {
     "name": "stdout",
     "output_type": "stream",
     "text": [
      "INFO:tensorflow:Assets written to: /tmp/tmp1mfpko2d/assets\n"
     ]
    },
    {
     "name": "stderr",
     "output_type": "stream",
     "text": [
      "INFO:tensorflow:Assets written to: /tmp/tmp1mfpko2d/assets\n",
      "WARNING:absl:Buffer deduplication procedure will be skipped when flatbuffer library is not properly loaded\n"
     ]
    },
    {
     "name": "stdout",
     "output_type": "stream",
     "text": [
      "INFO:tensorflow:Assets written to: /tmp/tmp1qejz2tr/assets\n"
     ]
    },
    {
     "name": "stderr",
     "output_type": "stream",
     "text": [
      "INFO:tensorflow:Assets written to: /tmp/tmp1qejz2tr/assets\n",
      "WARNING:absl:Buffer deduplication procedure will be skipped when flatbuffer library is not properly loaded\n"
     ]
    },
    {
     "name": "stdout",
     "output_type": "stream",
     "text": [
      "INFO:tensorflow:Assets written to: /tmp/tmpli3kk_nu/assets\n"
     ]
    },
    {
     "name": "stderr",
     "output_type": "stream",
     "text": [
      "INFO:tensorflow:Assets written to: /tmp/tmpli3kk_nu/assets\n",
      "WARNING:absl:Buffer deduplication procedure will be skipped when flatbuffer library is not properly loaded\n"
     ]
    },
    {
     "name": "stdout",
     "output_type": "stream",
     "text": [
      "INFO:tensorflow:Assets written to: /tmp/tmpdwbywgvq/assets\n"
     ]
    },
    {
     "name": "stderr",
     "output_type": "stream",
     "text": [
      "INFO:tensorflow:Assets written to: /tmp/tmpdwbywgvq/assets\n",
      "WARNING:absl:Buffer deduplication procedure will be skipped when flatbuffer library is not properly loaded\n"
     ]
    },
    {
     "name": "stdout",
     "output_type": "stream",
     "text": [
      "INFO:tensorflow:Assets written to: /tmp/tmpzozxw6t8/assets\n"
     ]
    },
    {
     "name": "stderr",
     "output_type": "stream",
     "text": [
      "INFO:tensorflow:Assets written to: /tmp/tmpzozxw6t8/assets\n",
      "WARNING:absl:Buffer deduplication procedure will be skipped when flatbuffer library is not properly loaded\n"
     ]
    },
    {
     "name": "stdout",
     "output_type": "stream",
     "text": [
      "INFO:tensorflow:Assets written to: /tmp/tmphvp70w4b/assets\n"
     ]
    },
    {
     "name": "stderr",
     "output_type": "stream",
     "text": [
      "INFO:tensorflow:Assets written to: /tmp/tmphvp70w4b/assets\n",
      "WARNING:absl:Buffer deduplication procedure will be skipped when flatbuffer library is not properly loaded\n"
     ]
    },
    {
     "name": "stdout",
     "output_type": "stream",
     "text": [
      "INFO:tensorflow:Assets written to: /tmp/tmpx7kri1iv/assets\n"
     ]
    },
    {
     "name": "stderr",
     "output_type": "stream",
     "text": [
      "INFO:tensorflow:Assets written to: /tmp/tmpx7kri1iv/assets\n",
      "WARNING:absl:Buffer deduplication procedure will be skipped when flatbuffer library is not properly loaded\n"
     ]
    },
    {
     "name": "stdout",
     "output_type": "stream",
     "text": [
      "INFO:tensorflow:Assets written to: /tmp/tmpl9zg4vy1/assets\n"
     ]
    },
    {
     "name": "stderr",
     "output_type": "stream",
     "text": [
      "INFO:tensorflow:Assets written to: /tmp/tmpl9zg4vy1/assets\n",
      "WARNING:absl:Buffer deduplication procedure will be skipped when flatbuffer library is not properly loaded\n"
     ]
    },
    {
     "name": "stdout",
     "output_type": "stream",
     "text": [
      "INFO:tensorflow:Assets written to: /tmp/tmp59r373yp/assets\n"
     ]
    },
    {
     "name": "stderr",
     "output_type": "stream",
     "text": [
      "INFO:tensorflow:Assets written to: /tmp/tmp59r373yp/assets\n",
      "WARNING:absl:Buffer deduplication procedure will be skipped when flatbuffer library is not properly loaded\n"
     ]
    },
    {
     "name": "stdout",
     "output_type": "stream",
     "text": [
      "INFO:tensorflow:Assets written to: /tmp/tmpjq9eltep/assets\n"
     ]
    },
    {
     "name": "stderr",
     "output_type": "stream",
     "text": [
      "INFO:tensorflow:Assets written to: /tmp/tmpjq9eltep/assets\n",
      "WARNING:absl:Buffer deduplication procedure will be skipped when flatbuffer library is not properly loaded\n"
     ]
    },
    {
     "name": "stdout",
     "output_type": "stream",
     "text": [
      "INFO:tensorflow:Assets written to: /tmp/tmpir4n4v72/assets\n"
     ]
    },
    {
     "name": "stderr",
     "output_type": "stream",
     "text": [
      "INFO:tensorflow:Assets written to: /tmp/tmpir4n4v72/assets\n",
      "WARNING:absl:Buffer deduplication procedure will be skipped when flatbuffer library is not properly loaded\n"
     ]
    },
    {
     "name": "stdout",
     "output_type": "stream",
     "text": [
      "INFO:tensorflow:Assets written to: /tmp/tmpzqy4p_cg/assets\n"
     ]
    },
    {
     "name": "stderr",
     "output_type": "stream",
     "text": [
      "INFO:tensorflow:Assets written to: /tmp/tmpzqy4p_cg/assets\n",
      "WARNING:absl:Buffer deduplication procedure will be skipped when flatbuffer library is not properly loaded\n"
     ]
    }
   ],
   "source": [
    "import tensorflow as tf\n",
    "\n",
    "picture_shape = (128,128,3)\n",
    "linear_data_shape = (128)\n",
    "pictures = tf.keras.Input(shape=picture_shape, batch_size=512)\n",
    "linear_data = tf.keras.Input(shape=linear_data_shape, batch_size=512)\n",
    "tflite_models = []\n",
    "\n",
    "# relu activation model\n",
    "layer0 = tf.keras.layers.Activation('relu')(linear_data)\n",
    "relu_act = tf.keras.Model(inputs=linear_data,outputs=layer0,name=\"relu_act\")\n",
    "converter0 = tf.lite.TFLiteConverter.from_keras_model(relu_act)\n",
    "tflite_models.append(converter0.convert())\n",
    "\n",
    "# leaky relu activation model\n",
    "layer1 = tf.keras.layers.LeakyReLU()(linear_data)\n",
    "leaky_relu_act = tf.keras.Model(inputs=linear_data,outputs=layer1,name=\"leaky_relu_act\")\n",
    "converter1 = tf.lite.TFLiteConverter.from_keras_model(leaky_relu_act)\n",
    "tflite_models.append(converter1.convert())\n",
    "\n",
    "# tanh activation model\n",
    "layer2 = tf.keras.layers.Activation('tanh')(linear_data)\n",
    "tanh_act = tf.keras.Model(inputs=linear_data,outputs=layer2,name=\"tanh_act\")\n",
    "converter2 = tf.lite.TFLiteConverter.from_keras_model(tanh_act)\n",
    "tflite_models.append(converter2.convert())\n",
    "\n",
    "# sigmoid activation model\n",
    "layer3 = tf.keras.layers.Activation('sigmoid')(linear_data)\n",
    "sigmoid_act = tf.keras.Model(inputs=linear_data,outputs=layer3,name=\"sigmoid_act\")\n",
    "converter3 = tf.lite.TFLiteConverter.from_keras_model(sigmoid_act)\n",
    "tflite_models.append(converter3.convert())\n",
    "\n",
    "# scalar_multiply model\n",
    "layer4 = tf.keras.layers.Lambda(lambda x: x * 5.0)(linear_data)\n",
    "scalar_mult = tf.keras.Model(inputs=linear_data,outputs=layer4,name=\"scalar_mult\")\n",
    "converter4 = tf.lite.TFLiteConverter.from_keras_model(scalar_mult)\n",
    "tflite_models.append(converter4.convert())\n",
    "\n",
    "# small dense model\n",
    "layer5 = tf.keras.layers.Dense(8)(linear_data)\n",
    "small_dense = tf.keras.Model(inputs=linear_data,outputs=layer5,name=\"small_dense\")\n",
    "converter5 = tf.lite.TFLiteConverter.from_keras_model(small_dense)\n",
    "tflite_models.append(converter5.convert())\n",
    "\n",
    "# big dense model\n",
    "layer6 = tf.keras.layers.Dense(512)(linear_data)\n",
    "big_dense = tf.keras.Model(inputs=linear_data,outputs=layer6,name=\"big_dense\")\n",
    "converter6 = tf.lite.TFLiteConverter.from_keras_model(big_dense)\n",
    "tflite_models.append(converter6.convert())\n",
    "\n",
    "# simple conv2d model\n",
    "layer7 = tf.keras.layers.Conv2D(12,3)(pictures)\n",
    "simple_conv2d = tf.keras.Model(inputs=pictures,outputs=layer7,name=\"simple_conv2d\")\n",
    "converter7 = tf.lite.TFLiteConverter.from_keras_model(simple_conv2d)\n",
    "tflite_models.append(converter7.convert())\n",
    "\n",
    "# dilated conv2d model\n",
    "layer8 = tf.keras.layers.Conv2D(12,3,dilation_rate=2)(pictures)\n",
    "dilated_conv2d = tf.keras.Model(inputs=pictures,outputs=layer8,name=\"dilated_conv2d\")\n",
    "converter8 = tf.lite.TFLiteConverter.from_keras_model(dilated_conv2d)\n",
    "tflite_models.append(converter8.convert())\n",
    "\n",
    "# strided conv2d model\n",
    "layer9 = tf.keras.layers.Conv2D(12,3,strides=5)(pictures)\n",
    "strided_conv2d = tf.keras.Model(inputs=pictures,outputs=layer9,name=\"strided_conv2d\")\n",
    "converter9 = tf.lite.TFLiteConverter.from_keras_model(strided_conv2d)\n",
    "tflite_models.append(converter9.convert())\n",
    "\n",
    "# big conv2d model\n",
    "layer10 = tf.keras.layers.Conv2D(9,7)(pictures)\n",
    "big_conv2d = tf.keras.Model(inputs=pictures,outputs=layer10,name=\"big_conv2d\")\n",
    "converter10 = tf.lite.TFLiteConverter.from_keras_model(big_conv2d)\n",
    "tflite_models.append(converter10.convert())\n",
    "\n",
    "# small conv2d model\n",
    "layer11 = tf.keras.layers.Conv2D(9,3)(pictures)\n",
    "small_conv2d = tf.keras.Model(inputs=pictures,outputs=layer11,name=\"small_conv2d\")\n",
    "converter11 = tf.lite.TFLiteConverter.from_keras_model(small_conv2d)\n",
    "tflite_models.append(converter11.convert())\n",
    "\n",
    "# many conv2d model\n",
    "layer12 = tf.keras.layers.Conv2D(512,3)(pictures)\n",
    "many_conv2d = tf.keras.Model(inputs=pictures,outputs=layer10,name=\"many_conv2d\")\n",
    "converter12 = tf.lite.TFLiteConverter.from_keras_model(many_conv2d)\n",
    "tflite_models.append(converter12.convert())\n",
    "\n",
    "# few conv2d model\n",
    "layer13 = tf.keras.layers.Conv2D(3,3)(pictures)\n",
    "few_conv2d = tf.keras.Model(inputs=pictures,outputs=layer11,name=\"few_conv2d\")\n",
    "converter13 = tf.lite.TFLiteConverter.from_keras_model(few_conv2d)\n",
    "tflite_models.append(converter13.convert())"
   ]
  },
  {
   "cell_type": "code",
   "execution_count": 2,
   "metadata": {
    "colab": {
     "base_uri": "https://localhost:8080/"
    },
    "id": "fgdK_wQaRpkx",
    "outputId": "20d8eed5-4f01-4b2e-bf89-e3facf60e7b4"
   },
   "outputs": [
    {
     "name": "stdout",
     "output_type": "stream",
     "text": [
      "Model: \"relu_act\"\n",
      "_________________________________________________________________\n",
      " Layer (type)                Output Shape              Param #   \n",
      "=================================================================\n",
      " input_2 (InputLayer)        [(512, 128)]              0         \n",
      "                                                                 \n",
      " activation (Activation)     (512, 128)                0         \n",
      "                                                                 \n",
      "=================================================================\n",
      "Total params: 0\n",
      "Trainable params: 0\n",
      "Non-trainable params: 0\n",
      "_________________________________________________________________\n"
     ]
    }
   ],
   "source": [
    "relu_act.summary()"
   ]
  },
  {
   "cell_type": "code",
   "execution_count": 3,
   "metadata": {
    "colab": {
     "base_uri": "https://localhost:8080/"
    },
    "id": "VDsrYzaTSNUf",
    "outputId": "85226b7e-72d6-4cd8-aac8-2bffc24bddba"
   },
   "outputs": [
    {
     "name": "stdout",
     "output_type": "stream",
     "text": [
      "Model: \"leaky_relu_act\"\n",
      "_________________________________________________________________\n",
      " Layer (type)                Output Shape              Param #   \n",
      "=================================================================\n",
      " input_2 (InputLayer)        [(512, 128)]              0         \n",
      "                                                                 \n",
      " leaky_re_lu (LeakyReLU)     (512, 128)                0         \n",
      "                                                                 \n",
      "=================================================================\n",
      "Total params: 0\n",
      "Trainable params: 0\n",
      "Non-trainable params: 0\n",
      "_________________________________________________________________\n"
     ]
    }
   ],
   "source": [
    "leaky_relu_act.summary()"
   ]
  },
  {
   "cell_type": "code",
   "execution_count": 4,
   "metadata": {
    "colab": {
     "base_uri": "https://localhost:8080/"
    },
    "id": "1LIizkI2SShh",
    "outputId": "277f4fbc-cac8-456a-e671-eda234d57f0c"
   },
   "outputs": [
    {
     "name": "stdout",
     "output_type": "stream",
     "text": [
      "Model: \"tanh_act\"\n",
      "_________________________________________________________________\n",
      " Layer (type)                Output Shape              Param #   \n",
      "=================================================================\n",
      " input_2 (InputLayer)        [(512, 128)]              0         \n",
      "                                                                 \n",
      " activation_1 (Activation)   (512, 128)                0         \n",
      "                                                                 \n",
      "=================================================================\n",
      "Total params: 0\n",
      "Trainable params: 0\n",
      "Non-trainable params: 0\n",
      "_________________________________________________________________\n"
     ]
    }
   ],
   "source": [
    "tanh_act.summary()"
   ]
  },
  {
   "cell_type": "code",
   "execution_count": 5,
   "metadata": {
    "colab": {
     "base_uri": "https://localhost:8080/"
    },
    "id": "jjPUgCUVSYPT",
    "outputId": "a56f88e7-f60a-4659-a0c2-a631be091d04"
   },
   "outputs": [
    {
     "name": "stdout",
     "output_type": "stream",
     "text": [
      "Model: \"sigmoid_act\"\n",
      "_________________________________________________________________\n",
      " Layer (type)                Output Shape              Param #   \n",
      "=================================================================\n",
      " input_2 (InputLayer)        [(512, 128)]              0         \n",
      "                                                                 \n",
      " activation_2 (Activation)   (512, 128)                0         \n",
      "                                                                 \n",
      "=================================================================\n",
      "Total params: 0\n",
      "Trainable params: 0\n",
      "Non-trainable params: 0\n",
      "_________________________________________________________________\n"
     ]
    }
   ],
   "source": [
    "sigmoid_act.summary()"
   ]
  },
  {
   "cell_type": "code",
   "execution_count": 6,
   "metadata": {
    "colab": {
     "base_uri": "https://localhost:8080/"
    },
    "id": "IdvQuGWvSbsm",
    "outputId": "f4eedb25-7288-41c9-e6e9-8eb06d16ba8a"
   },
   "outputs": [
    {
     "name": "stdout",
     "output_type": "stream",
     "text": [
      "Model: \"scalar_mult\"\n",
      "_________________________________________________________________\n",
      " Layer (type)                Output Shape              Param #   \n",
      "=================================================================\n",
      " input_2 (InputLayer)        [(512, 128)]              0         \n",
      "                                                                 \n",
      " lambda (Lambda)             (512, 128)                0         \n",
      "                                                                 \n",
      "=================================================================\n",
      "Total params: 0\n",
      "Trainable params: 0\n",
      "Non-trainable params: 0\n",
      "_________________________________________________________________\n"
     ]
    }
   ],
   "source": [
    "scalar_mult.summary()"
   ]
  },
  {
   "cell_type": "code",
   "execution_count": 7,
   "metadata": {
    "colab": {
     "base_uri": "https://localhost:8080/"
    },
    "id": "eeKOcyyrSqJg",
    "outputId": "5dbeb1be-dd5f-4c08-88e3-f8a0a44347d4"
   },
   "outputs": [
    {
     "name": "stdout",
     "output_type": "stream",
     "text": [
      "Model: \"small_dense\"\n",
      "_________________________________________________________________\n",
      " Layer (type)                Output Shape              Param #   \n",
      "=================================================================\n",
      " input_2 (InputLayer)        [(512, 128)]              0         \n",
      "                                                                 \n",
      " dense (Dense)               (512, 8)                  1032      \n",
      "                                                                 \n",
      "=================================================================\n",
      "Total params: 1,032\n",
      "Trainable params: 1,032\n",
      "Non-trainable params: 0\n",
      "_________________________________________________________________\n"
     ]
    }
   ],
   "source": [
    "small_dense.summary()"
   ]
  },
  {
   "cell_type": "code",
   "execution_count": 8,
   "metadata": {
    "colab": {
     "base_uri": "https://localhost:8080/"
    },
    "id": "ANDbMUZISt14",
    "outputId": "e5297cf2-792d-45d1-fa9b-65e855e292ce"
   },
   "outputs": [
    {
     "name": "stdout",
     "output_type": "stream",
     "text": [
      "Model: \"big_dense\"\n",
      "_________________________________________________________________\n",
      " Layer (type)                Output Shape              Param #   \n",
      "=================================================================\n",
      " input_2 (InputLayer)        [(512, 128)]              0         \n",
      "                                                                 \n",
      " dense_1 (Dense)             (512, 512)                66048     \n",
      "                                                                 \n",
      "=================================================================\n",
      "Total params: 66,048\n",
      "Trainable params: 66,048\n",
      "Non-trainable params: 0\n",
      "_________________________________________________________________\n"
     ]
    }
   ],
   "source": [
    "big_dense.summary()"
   ]
  },
  {
   "cell_type": "code",
   "execution_count": 9,
   "metadata": {
    "colab": {
     "base_uri": "https://localhost:8080/"
    },
    "id": "dPqQH5zoS0zI",
    "outputId": "1dda0d93-78ef-4475-8a44-e01660fdf951"
   },
   "outputs": [
    {
     "name": "stdout",
     "output_type": "stream",
     "text": [
      "Model: \"simple_conv2d\"\n",
      "_________________________________________________________________\n",
      " Layer (type)                Output Shape              Param #   \n",
      "=================================================================\n",
      " input_1 (InputLayer)        [(512, 128, 128, 3)]      0         \n",
      "                                                                 \n",
      " conv2d (Conv2D)             (512, 126, 126, 12)       336       \n",
      "                                                                 \n",
      "=================================================================\n",
      "Total params: 336\n",
      "Trainable params: 336\n",
      "Non-trainable params: 0\n",
      "_________________________________________________________________\n"
     ]
    }
   ],
   "source": [
    "simple_conv2d.summary()"
   ]
  },
  {
   "cell_type": "code",
   "execution_count": 10,
   "metadata": {
    "colab": {
     "base_uri": "https://localhost:8080/"
    },
    "id": "XjZdM_V3TCHw",
    "outputId": "db7ba9f4-dc42-4f28-e2cd-29114f0642c9"
   },
   "outputs": [
    {
     "name": "stdout",
     "output_type": "stream",
     "text": [
      "Model: \"strided_conv2d\"\n",
      "_________________________________________________________________\n",
      " Layer (type)                Output Shape              Param #   \n",
      "=================================================================\n",
      " input_1 (InputLayer)        [(512, 128, 128, 3)]      0         \n",
      "                                                                 \n",
      " conv2d_2 (Conv2D)           (512, 26, 26, 12)         336       \n",
      "                                                                 \n",
      "=================================================================\n",
      "Total params: 336\n",
      "Trainable params: 336\n",
      "Non-trainable params: 0\n",
      "_________________________________________________________________\n"
     ]
    }
   ],
   "source": [
    "strided_conv2d.summary()"
   ]
  },
  {
   "cell_type": "code",
   "execution_count": 11,
   "metadata": {
    "colab": {
     "base_uri": "https://localhost:8080/"
    },
    "id": "oJ94bUPnTIpV",
    "outputId": "3fdb9214-5da5-4a79-a600-bf4960f1d0d9"
   },
   "outputs": [
    {
     "name": "stdout",
     "output_type": "stream",
     "text": [
      "Model: \"dilated_conv2d\"\n",
      "_________________________________________________________________\n",
      " Layer (type)                Output Shape              Param #   \n",
      "=================================================================\n",
      " input_1 (InputLayer)        [(512, 128, 128, 3)]      0         \n",
      "                                                                 \n",
      " conv2d_1 (Conv2D)           (512, 124, 124, 12)       336       \n",
      "                                                                 \n",
      "=================================================================\n",
      "Total params: 336\n",
      "Trainable params: 336\n",
      "Non-trainable params: 0\n",
      "_________________________________________________________________\n"
     ]
    }
   ],
   "source": [
    "dilated_conv2d.summary()"
   ]
  },
  {
   "cell_type": "code",
   "execution_count": 12,
   "metadata": {
    "colab": {
     "base_uri": "https://localhost:8080/"
    },
    "id": "mUgEY74jTMMQ",
    "outputId": "6cad51b4-3f8d-442b-d056-5bd3087f828f"
   },
   "outputs": [
    {
     "name": "stdout",
     "output_type": "stream",
     "text": [
      "Model: \"small_conv2d\"\n",
      "_________________________________________________________________\n",
      " Layer (type)                Output Shape              Param #   \n",
      "=================================================================\n",
      " input_1 (InputLayer)        [(512, 128, 128, 3)]      0         \n",
      "                                                                 \n",
      " conv2d_4 (Conv2D)           (512, 126, 126, 9)        252       \n",
      "                                                                 \n",
      "=================================================================\n",
      "Total params: 252\n",
      "Trainable params: 252\n",
      "Non-trainable params: 0\n",
      "_________________________________________________________________\n"
     ]
    }
   ],
   "source": [
    "small_conv2d.summary()"
   ]
  },
  {
   "cell_type": "code",
   "execution_count": 13,
   "metadata": {
    "colab": {
     "base_uri": "https://localhost:8080/"
    },
    "id": "vi_su7zlTR03",
    "outputId": "61d34367-0d7e-41e4-c942-bdaa1b7970f0"
   },
   "outputs": [
    {
     "name": "stdout",
     "output_type": "stream",
     "text": [
      "Model: \"big_conv2d\"\n",
      "_________________________________________________________________\n",
      " Layer (type)                Output Shape              Param #   \n",
      "=================================================================\n",
      " input_1 (InputLayer)        [(512, 128, 128, 3)]      0         \n",
      "                                                                 \n",
      " conv2d_3 (Conv2D)           (512, 122, 122, 9)        1332      \n",
      "                                                                 \n",
      "=================================================================\n",
      "Total params: 1,332\n",
      "Trainable params: 1,332\n",
      "Non-trainable params: 0\n",
      "_________________________________________________________________\n"
     ]
    }
   ],
   "source": [
    "big_conv2d.summary()"
   ]
  },
  {
   "cell_type": "code",
   "execution_count": 14,
   "metadata": {
    "colab": {
     "base_uri": "https://localhost:8080/"
    },
    "id": "RtOgM2c4nfLl",
    "outputId": "d0725023-ad2d-4829-f189-cd657739d504"
   },
   "outputs": [
    {
     "name": "stdout",
     "output_type": "stream",
     "text": [
      "Model: \"few_conv2d\"\n",
      "_________________________________________________________________\n",
      " Layer (type)                Output Shape              Param #   \n",
      "=================================================================\n",
      " input_1 (InputLayer)        [(512, 128, 128, 3)]      0         \n",
      "                                                                 \n",
      " conv2d_4 (Conv2D)           (512, 126, 126, 9)        252       \n",
      "                                                                 \n",
      "=================================================================\n",
      "Total params: 252\n",
      "Trainable params: 252\n",
      "Non-trainable params: 0\n",
      "_________________________________________________________________\n"
     ]
    }
   ],
   "source": [
    "few_conv2d.summary()"
   ]
  },
  {
   "cell_type": "code",
   "execution_count": 15,
   "metadata": {
    "colab": {
     "base_uri": "https://localhost:8080/"
    },
    "id": "Mv_9L3KHnkrn",
    "outputId": "9e488a24-82ee-4cbe-e00c-dd472374f0a1"
   },
   "outputs": [
    {
     "name": "stdout",
     "output_type": "stream",
     "text": [
      "Model: \"many_conv2d\"\n",
      "_________________________________________________________________\n",
      " Layer (type)                Output Shape              Param #   \n",
      "=================================================================\n",
      " input_1 (InputLayer)        [(512, 128, 128, 3)]      0         \n",
      "                                                                 \n",
      " conv2d_3 (Conv2D)           (512, 122, 122, 9)        1332      \n",
      "                                                                 \n",
      "=================================================================\n",
      "Total params: 1,332\n",
      "Trainable params: 1,332\n",
      "Non-trainable params: 0\n",
      "_________________________________________________________________\n"
     ]
    }
   ],
   "source": [
    "many_conv2d.summary()"
   ]
  }
 ],
 "metadata": {
  "colab": {
   "authorship_tag": "ABX9TyOiXPnRwcu63AOwc/shlBPp",
   "collapsed_sections": [],
   "include_colab_link": true,
   "name": "ai_hardware_accelerators.ipynb",
   "provenance": []
  },
  "kernelspec": {
   "display_name": "Python 3 (ipykernel)",
   "language": "python",
   "name": "python3"
  },
  "language_info": {
   "codemirror_mode": {
    "name": "ipython",
    "version": 3
   },
   "file_extension": ".py",
   "mimetype": "text/x-python",
   "name": "python",
   "nbconvert_exporter": "python",
   "pygments_lexer": "ipython3",
   "version": "3.8.10"
  }
 },
 "nbformat": 4,
 "nbformat_minor": 1
}
