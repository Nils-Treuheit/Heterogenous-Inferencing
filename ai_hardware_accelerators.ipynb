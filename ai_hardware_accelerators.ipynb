{
  "nbformat": 4,
  "nbformat_minor": 0,
  "metadata": {
    "colab": {
      "name": "ai_hardware_accelerators.ipynb",
      "provenance": [],
      "collapsed_sections": []
    },
    "kernelspec": {
      "name": "python3",
      "display_name": "Python 3"
    },
    "language_info": {
      "name": "python"
    }
  },
  "cells": [
    {
      "cell_type": "code",
      "execution_count": 1,
      "metadata": {
        "id": "4ghjtz04EoA-"
      },
      "outputs": [],
      "source": [
        "import tensorflow as tf\n",
        "\n",
        "input_shape = (128,128,3)\n",
        "input = tf.keras.Input(shape=input_shape, batch_size=512)\n",
        "\n",
        "# relu activation model\n",
        "layer0 = tf.keras.layers.Activation('relu')(input)\n",
        "relu_act = tf.keras.Model(inputs=input,outputs=layer0,name=\"relu_act\")\n",
        "\n",
        "# relu activation model\n",
        "layer1 = tf.keras.layers.LeakyReLU()(input)\n",
        "leaky_relu_act = tf.keras.Model(inputs=input,outputs=layer1,name=\"leaky_relu_act\")\n",
        "\n",
        "# tanh activation model\n",
        "layer2 = tf.keras.layers.Activation('tanh')(input)\n",
        "tanh_act = tf.keras.Model(inputs=input,outputs=layer2,name=\"tanh_act\")\n",
        "\n",
        "# sigmoid activation model\n",
        "layer3 = tf.keras.layers.Activation('sigmoid')(input)\n",
        "sigmoid_act = tf.keras.Model(inputs=input,outputs=layer3,name=\"sigmoid_act\")\n",
        "\n",
        "# scalar_multiply model\n",
        "layer4 = tf.keras.layers.Lambda(lambda x: x * 5.0)(input)\n",
        "scalar_mult = tf.keras.Model(inputs=input,outputs=layer4,name=\"scalar_mult\")\n",
        "\n",
        "# small dense model\n",
        "layer5 = tf.keras.layers.Dense(16)(input)\n",
        "small_dense = tf.keras.Model(inputs=input,outputs=layer5,name=\"small_dense\")\n",
        "\n",
        "# big dense model\n",
        "layer6 = tf.keras.layers.Dense(1024)(input)\n",
        "big_dense = tf.keras.Model(inputs=input,outputs=layer6,name=\"big_dense\")\n",
        "\n",
        "# simple conv2d model\n",
        "layer7 = tf.keras.layers.Conv2D(6,3)(input)\n",
        "simple_conv2d = tf.keras.Model(inputs=input,outputs=layer7,name=\"simple_conv2d\")\n",
        "\n",
        "# dilated conv2d model\n",
        "layer8 = tf.keras.layers.Conv2D(6,3,dilation_rate=2)(input)\n",
        "dilated_conv2d = tf.keras.Model(inputs=input,outputs=layer8,name=\"dilated_conv2d\")\n",
        "\n",
        "# strided conv2d model\n",
        "layer9 = tf.keras.layers.Conv2D(6,3,strides=5)(input)\n",
        "strided_conv2d = tf.keras.Model(inputs=input,outputs=layer9,name=\"strided_conv2d\")\n",
        "\n",
        "# big conv2d model\n",
        "layer10 = tf.keras.layers.Conv2D(512,7)(input)\n",
        "big_conv2d = tf.keras.Model(inputs=input,outputs=layer10,name=\"big_conv2d\")\n",
        "\n",
        "# small conv2d model\n",
        "layer11 = tf.keras.layers.Conv2D(3,3)(input)\n",
        "small_conv2d = tf.keras.Model(inputs=input,outputs=layer11,name=\"small_conv2d\")"
      ]
    },
    {
      "cell_type": "code",
      "source": [
        "relu_act.summary()"
      ],
      "metadata": {
        "colab": {
          "base_uri": "https://localhost:8080/"
        },
        "id": "fgdK_wQaRpkx",
        "outputId": "47deb93c-7c39-46d7-ecad-79c4ed6a4925"
      },
      "execution_count": 2,
      "outputs": [
        {
          "output_type": "stream",
          "name": "stdout",
          "text": [
            "Model: \"relu_act\"\n",
            "_________________________________________________________________\n",
            " Layer (type)                Output Shape              Param #   \n",
            "=================================================================\n",
            " input_1 (InputLayer)        [(512, 128, 128, 3)]      0         \n",
            "                                                                 \n",
            " activation (Activation)     (512, 128, 128, 3)        0         \n",
            "                                                                 \n",
            "=================================================================\n",
            "Total params: 0\n",
            "Trainable params: 0\n",
            "Non-trainable params: 0\n",
            "_________________________________________________________________\n"
          ]
        }
      ]
    },
    {
      "cell_type": "code",
      "source": [
        "leaky_relu_act.summary()"
      ],
      "metadata": {
        "colab": {
          "base_uri": "https://localhost:8080/"
        },
        "id": "VDsrYzaTSNUf",
        "outputId": "7bdf9213-78a5-4cd1-d81e-fbb48e5537d5"
      },
      "execution_count": 3,
      "outputs": [
        {
          "output_type": "stream",
          "name": "stdout",
          "text": [
            "Model: \"leaky_relu_act\"\n",
            "_________________________________________________________________\n",
            " Layer (type)                Output Shape              Param #   \n",
            "=================================================================\n",
            " input_1 (InputLayer)        [(512, 128, 128, 3)]      0         \n",
            "                                                                 \n",
            " leaky_re_lu (LeakyReLU)     (512, 128, 128, 3)        0         \n",
            "                                                                 \n",
            "=================================================================\n",
            "Total params: 0\n",
            "Trainable params: 0\n",
            "Non-trainable params: 0\n",
            "_________________________________________________________________\n"
          ]
        }
      ]
    },
    {
      "cell_type": "code",
      "source": [
        "tanh_act.summary()"
      ],
      "metadata": {
        "colab": {
          "base_uri": "https://localhost:8080/"
        },
        "id": "1LIizkI2SShh",
        "outputId": "76b4ba06-bdb8-4a1d-ce08-b52945c74ff9"
      },
      "execution_count": 4,
      "outputs": [
        {
          "output_type": "stream",
          "name": "stdout",
          "text": [
            "Model: \"tanh_act\"\n",
            "_________________________________________________________________\n",
            " Layer (type)                Output Shape              Param #   \n",
            "=================================================================\n",
            " input_1 (InputLayer)        [(512, 128, 128, 3)]      0         \n",
            "                                                                 \n",
            " activation_1 (Activation)   (512, 128, 128, 3)        0         \n",
            "                                                                 \n",
            "=================================================================\n",
            "Total params: 0\n",
            "Trainable params: 0\n",
            "Non-trainable params: 0\n",
            "_________________________________________________________________\n"
          ]
        }
      ]
    },
    {
      "cell_type": "code",
      "source": [
        "sigmoid_act.summary()"
      ],
      "metadata": {
        "colab": {
          "base_uri": "https://localhost:8080/"
        },
        "id": "jjPUgCUVSYPT",
        "outputId": "ffaae4b1-d6cf-4e17-ebfc-9de3d233e6d9"
      },
      "execution_count": 5,
      "outputs": [
        {
          "output_type": "stream",
          "name": "stdout",
          "text": [
            "Model: \"sigmoid_act\"\n",
            "_________________________________________________________________\n",
            " Layer (type)                Output Shape              Param #   \n",
            "=================================================================\n",
            " input_1 (InputLayer)        [(512, 128, 128, 3)]      0         \n",
            "                                                                 \n",
            " activation_2 (Activation)   (512, 128, 128, 3)        0         \n",
            "                                                                 \n",
            "=================================================================\n",
            "Total params: 0\n",
            "Trainable params: 0\n",
            "Non-trainable params: 0\n",
            "_________________________________________________________________\n"
          ]
        }
      ]
    },
    {
      "cell_type": "code",
      "source": [
        "scalar_mult.summary()"
      ],
      "metadata": {
        "colab": {
          "base_uri": "https://localhost:8080/"
        },
        "id": "IdvQuGWvSbsm",
        "outputId": "fb6caeb2-9b3d-4db9-fdc1-3a230bd6a640"
      },
      "execution_count": 6,
      "outputs": [
        {
          "output_type": "stream",
          "name": "stdout",
          "text": [
            "Model: \"scalar_mult\"\n",
            "_________________________________________________________________\n",
            " Layer (type)                Output Shape              Param #   \n",
            "=================================================================\n",
            " input_1 (InputLayer)        [(512, 128, 128, 3)]      0         \n",
            "                                                                 \n",
            " lambda (Lambda)             (512, 128, 128, 3)        0         \n",
            "                                                                 \n",
            "=================================================================\n",
            "Total params: 0\n",
            "Trainable params: 0\n",
            "Non-trainable params: 0\n",
            "_________________________________________________________________\n"
          ]
        }
      ]
    },
    {
      "cell_type": "code",
      "source": [
        "small_dense.summary()"
      ],
      "metadata": {
        "colab": {
          "base_uri": "https://localhost:8080/"
        },
        "id": "eeKOcyyrSqJg",
        "outputId": "50322471-c222-4d94-f6aa-be3fa5ce9224"
      },
      "execution_count": 7,
      "outputs": [
        {
          "output_type": "stream",
          "name": "stdout",
          "text": [
            "Model: \"small_dense\"\n",
            "_________________________________________________________________\n",
            " Layer (type)                Output Shape              Param #   \n",
            "=================================================================\n",
            " input_1 (InputLayer)        [(512, 128, 128, 3)]      0         \n",
            "                                                                 \n",
            " dense (Dense)               (512, 128, 128, 16)       64        \n",
            "                                                                 \n",
            "=================================================================\n",
            "Total params: 64\n",
            "Trainable params: 64\n",
            "Non-trainable params: 0\n",
            "_________________________________________________________________\n"
          ]
        }
      ]
    },
    {
      "cell_type": "code",
      "source": [
        "big_dense.summary()"
      ],
      "metadata": {
        "colab": {
          "base_uri": "https://localhost:8080/"
        },
        "id": "ANDbMUZISt14",
        "outputId": "231c9137-e97a-45d9-d6e0-d634d17ae178"
      },
      "execution_count": 8,
      "outputs": [
        {
          "output_type": "stream",
          "name": "stdout",
          "text": [
            "Model: \"big_dense\"\n",
            "_________________________________________________________________\n",
            " Layer (type)                Output Shape              Param #   \n",
            "=================================================================\n",
            " input_1 (InputLayer)        [(512, 128, 128, 3)]      0         \n",
            "                                                                 \n",
            " dense_1 (Dense)             (512, 128, 128, 1024)     4096      \n",
            "                                                                 \n",
            "=================================================================\n",
            "Total params: 4,096\n",
            "Trainable params: 4,096\n",
            "Non-trainable params: 0\n",
            "_________________________________________________________________\n"
          ]
        }
      ]
    },
    {
      "cell_type": "code",
      "source": [
        "simple_conv2d.summary()"
      ],
      "metadata": {
        "colab": {
          "base_uri": "https://localhost:8080/"
        },
        "id": "dPqQH5zoS0zI",
        "outputId": "510f503c-6c42-44e3-b595-9565c600494d"
      },
      "execution_count": 9,
      "outputs": [
        {
          "output_type": "stream",
          "name": "stdout",
          "text": [
            "Model: \"simple_conv2d\"\n",
            "_________________________________________________________________\n",
            " Layer (type)                Output Shape              Param #   \n",
            "=================================================================\n",
            " input_1 (InputLayer)        [(512, 128, 128, 3)]      0         \n",
            "                                                                 \n",
            " conv2d (Conv2D)             (512, 126, 126, 6)        168       \n",
            "                                                                 \n",
            "=================================================================\n",
            "Total params: 168\n",
            "Trainable params: 168\n",
            "Non-trainable params: 0\n",
            "_________________________________________________________________\n"
          ]
        }
      ]
    },
    {
      "cell_type": "code",
      "source": [
        "strided_conv2d.summary()"
      ],
      "metadata": {
        "colab": {
          "base_uri": "https://localhost:8080/"
        },
        "id": "XjZdM_V3TCHw",
        "outputId": "007c24ff-c616-4e22-b0eb-6df7369dbaf4"
      },
      "execution_count": 10,
      "outputs": [
        {
          "output_type": "stream",
          "name": "stdout",
          "text": [
            "Model: \"strided_conv2d\"\n",
            "_________________________________________________________________\n",
            " Layer (type)                Output Shape              Param #   \n",
            "=================================================================\n",
            " input_1 (InputLayer)        [(512, 128, 128, 3)]      0         \n",
            "                                                                 \n",
            " conv2d_2 (Conv2D)           (512, 26, 26, 6)          168       \n",
            "                                                                 \n",
            "=================================================================\n",
            "Total params: 168\n",
            "Trainable params: 168\n",
            "Non-trainable params: 0\n",
            "_________________________________________________________________\n"
          ]
        }
      ]
    },
    {
      "cell_type": "code",
      "source": [
        "dilated_conv2d.summary()"
      ],
      "metadata": {
        "colab": {
          "base_uri": "https://localhost:8080/"
        },
        "id": "oJ94bUPnTIpV",
        "outputId": "3f17a005-d0bb-42cb-9825-8847662a5e5c"
      },
      "execution_count": 11,
      "outputs": [
        {
          "output_type": "stream",
          "name": "stdout",
          "text": [
            "Model: \"dilated_conv2d\"\n",
            "_________________________________________________________________\n",
            " Layer (type)                Output Shape              Param #   \n",
            "=================================================================\n",
            " input_1 (InputLayer)        [(512, 128, 128, 3)]      0         \n",
            "                                                                 \n",
            " conv2d_1 (Conv2D)           (512, 124, 124, 6)        168       \n",
            "                                                                 \n",
            "=================================================================\n",
            "Total params: 168\n",
            "Trainable params: 168\n",
            "Non-trainable params: 0\n",
            "_________________________________________________________________\n"
          ]
        }
      ]
    },
    {
      "cell_type": "code",
      "source": [
        "small_conv2d.summary()"
      ],
      "metadata": {
        "colab": {
          "base_uri": "https://localhost:8080/"
        },
        "id": "mUgEY74jTMMQ",
        "outputId": "7b242252-e676-4fe5-f597-befa614f3b8c"
      },
      "execution_count": 12,
      "outputs": [
        {
          "output_type": "stream",
          "name": "stdout",
          "text": [
            "Model: \"small_conv2d\"\n",
            "_________________________________________________________________\n",
            " Layer (type)                Output Shape              Param #   \n",
            "=================================================================\n",
            " input_1 (InputLayer)        [(512, 128, 128, 3)]      0         \n",
            "                                                                 \n",
            " conv2d_4 (Conv2D)           (512, 126, 126, 3)        84        \n",
            "                                                                 \n",
            "=================================================================\n",
            "Total params: 84\n",
            "Trainable params: 84\n",
            "Non-trainable params: 0\n",
            "_________________________________________________________________\n"
          ]
        }
      ]
    },
    {
      "cell_type": "code",
      "source": [
        "big_conv2d.summary()"
      ],
      "metadata": {
        "colab": {
          "base_uri": "https://localhost:8080/"
        },
        "id": "vi_su7zlTR03",
        "outputId": "4e5abeeb-c4de-4136-d39c-f2cc50e9c841"
      },
      "execution_count": 13,
      "outputs": [
        {
          "output_type": "stream",
          "name": "stdout",
          "text": [
            "Model: \"big_conv2d\"\n",
            "_________________________________________________________________\n",
            " Layer (type)                Output Shape              Param #   \n",
            "=================================================================\n",
            " input_1 (InputLayer)        [(512, 128, 128, 3)]      0         \n",
            "                                                                 \n",
            " conv2d_3 (Conv2D)           (512, 122, 122, 512)      75776     \n",
            "                                                                 \n",
            "=================================================================\n",
            "Total params: 75,776\n",
            "Trainable params: 75,776\n",
            "Non-trainable params: 0\n",
            "_________________________________________________________________\n"
          ]
        }
      ]
    }
  ]
}