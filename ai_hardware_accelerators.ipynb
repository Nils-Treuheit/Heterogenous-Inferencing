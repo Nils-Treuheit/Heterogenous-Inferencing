{
 "cells": [
  {
   "cell_type": "markdown",
   "metadata": {
    "colab_type": "text",
    "id": "view-in-github"
   },
   "source": [
    "<a href=\"https://colab.research.google.com/github/Nils-Treuheit/Heterogenous-Inferencing/blob/main/ai_hardware_accelerators.ipynb\" target=\"_parent\"><img src=\"https://colab.research.google.com/assets/colab-badge.svg\" alt=\"Open In Colab\"/></a>"
   ]
  },
  {
   "cell_type": "code",
   "execution_count": null,
   "metadata": {
    "colab": {
     "base_uri": "https://localhost:8080/"
    },
    "id": "4ghjtz04EoA-",
    "outputId": "e61f91f8-d2f7-4294-9638-0c106fe3d972"
   },
   "outputs": [],
   "source": [
    "import tensorflow as tf\n",
    "import os\n",
    "from openvino.inference_engine import IECore\n",
    "import numpy as np\n",
    "\n",
    "picture_shape = (128,128,3)\n",
    "linear_data_shape = (128)\n",
    "pictures = tf.keras.Input(shape=picture_shape, batch_size=512)\n",
    "linear_data = tf.keras.Input(shape=linear_data_shape, batch_size=512)\n",
    "tflite_models = []\n",
    "\n",
    "# relu activation model\n",
    "layer0 = tf.keras.layers.Activation('relu')(linear_data)\n",
    "relu_act = tf.keras.Model(inputs=linear_data,outputs=layer0,name=\"relu_act\")\n",
    "converter0 = tf.lite.TFLiteConverter.from_keras_model(relu_act)\n",
    "tflite_models.append(converter0.convert())\n",
    "\n",
    "# leaky relu activation model\n",
    "layer1 = tf.keras.layers.LeakyReLU()(linear_data)\n",
    "leaky_relu_act = tf.keras.Model(inputs=linear_data,outputs=layer1,name=\"leaky_relu_act\")\n",
    "converter1 = tf.lite.TFLiteConverter.from_keras_model(leaky_relu_act)\n",
    "tflite_models.append(converter1.convert())\n",
    "\n",
    "# tanh activation model\n",
    "layer2 = tf.keras.layers.Activation('tanh')(linear_data)\n",
    "tanh_act = tf.keras.Model(inputs=linear_data,outputs=layer2,name=\"tanh_act\")\n",
    "converter2 = tf.lite.TFLiteConverter.from_keras_model(tanh_act)\n",
    "tflite_models.append(converter2.convert())\n",
    "\n",
    "# sigmoid activation model\n",
    "layer3 = tf.keras.layers.Activation('sigmoid')(linear_data)\n",
    "sigmoid_act = tf.keras.Model(inputs=linear_data,outputs=layer3,name=\"sigmoid_act\")\n",
    "converter3 = tf.lite.TFLiteConverter.from_keras_model(sigmoid_act)\n",
    "tflite_models.append(converter3.convert())\n",
    "\n",
    "# scalar_multiply model\n",
    "layer4 = tf.keras.layers.Lambda(lambda x: x * 5.0)(linear_data)\n",
    "scalar_mult = tf.keras.Model(inputs=linear_data,outputs=layer4,name=\"scalar_mult\")\n",
    "converter4 = tf.lite.TFLiteConverter.from_keras_model(scalar_mult)\n",
    "tflite_models.append(converter4.convert())\n",
    "\n",
    "# small dense model\n",
    "layer5 = tf.keras.layers.Dense(8)(linear_data)\n",
    "small_dense = tf.keras.Model(inputs=linear_data,outputs=layer5,name=\"small_dense\")\n",
    "converter5 = tf.lite.TFLiteConverter.from_keras_model(small_dense)\n",
    "tflite_models.append(converter5.convert())\n",
    "\n",
    "# big dense model\n",
    "layer6 = tf.keras.layers.Dense(512)(linear_data)\n",
    "big_dense = tf.keras.Model(inputs=linear_data,outputs=layer6,name=\"big_dense\")\n",
    "converter6 = tf.lite.TFLiteConverter.from_keras_model(big_dense)\n",
    "tflite_models.append(converter6.convert())\n",
    "\n",
    "# simple conv2d model\n",
    "layer7 = tf.keras.layers.Conv2D(12,3)(pictures)\n",
    "simple_conv2d = tf.keras.Model(inputs=pictures,outputs=layer7,name=\"simple_conv2d\")\n",
    "converter7 = tf.lite.TFLiteConverter.from_keras_model(simple_conv2d)\n",
    "tflite_models.append(converter7.convert())\n",
    "\n",
    "# dilated conv2d model\n",
    "layer8 = tf.keras.layers.Conv2D(12,3,dilation_rate=2)(pictures)\n",
    "dilated_conv2d = tf.keras.Model(inputs=pictures,outputs=layer8,name=\"dilated_conv2d\")\n",
    "converter8 = tf.lite.TFLiteConverter.from_keras_model(dilated_conv2d)\n",
    "tflite_models.append(converter8.convert())\n",
    "\n",
    "# strided conv2d model\n",
    "layer9 = tf.keras.layers.Conv2D(12,3,strides=5)(pictures)\n",
    "strided_conv2d = tf.keras.Model(inputs=pictures,outputs=layer9,name=\"strided_conv2d\")\n",
    "converter9 = tf.lite.TFLiteConverter.from_keras_model(strided_conv2d)\n",
    "tflite_models.append(converter9.convert())\n",
    "\n",
    "# big conv2d model\n",
    "layer10 = tf.keras.layers.Conv2D(9,7)(pictures)\n",
    "big_conv2d = tf.keras.Model(inputs=pictures,outputs=layer10,name=\"big_conv2d\")\n",
    "converter10 = tf.lite.TFLiteConverter.from_keras_model(big_conv2d)\n",
    "tflite_models.append(converter10.convert())\n",
    "\n",
    "# small conv2d model\n",
    "layer11 = tf.keras.layers.Conv2D(9,3)(pictures)\n",
    "small_conv2d = tf.keras.Model(inputs=pictures,outputs=layer11,name=\"small_conv2d\")\n",
    "converter11 = tf.lite.TFLiteConverter.from_keras_model(small_conv2d)\n",
    "tflite_models.append(converter11.convert())\n",
    "\n",
    "# many conv2d model\n",
    "layer12 = tf.keras.layers.Conv2D(512,3)(pictures)\n",
    "many_conv2d = tf.keras.Model(inputs=pictures,outputs=layer10,name=\"many_conv2d\")\n",
    "converter12 = tf.lite.TFLiteConverter.from_keras_model(many_conv2d)\n",
    "tflite_models.append(converter12.convert())\n",
    "\n",
    "# few conv2d model\n",
    "layer13 = tf.keras.layers.Conv2D(3,3)(pictures)\n",
    "few_conv2d = tf.keras.Model(inputs=pictures,outputs=layer11,name=\"few_conv2d\")\n",
    "converter13 = tf.lite.TFLiteConverter.from_keras_model(few_conv2d)\n",
    "tflite_models.append(converter13.convert())"
   ]
  },
  {
   "cell_type": "code",
   "execution_count": null,
   "metadata": {
    "colab": {
     "base_uri": "https://localhost:8080/"
    },
    "id": "fgdK_wQaRpkx",
    "outputId": "20d8eed5-4f01-4b2e-bf89-e3facf60e7b4"
   },
   "outputs": [],
   "source": [
    "relu_act.summary()"
   ]
  },
  {
   "cell_type": "code",
   "execution_count": null,
   "metadata": {
    "colab": {
     "base_uri": "https://localhost:8080/"
    },
    "id": "VDsrYzaTSNUf",
    "outputId": "85226b7e-72d6-4cd8-aac8-2bffc24bddba"
   },
   "outputs": [],
   "source": [
    "leaky_relu_act.summary()"
   ]
  },
  {
   "cell_type": "code",
   "execution_count": null,
   "metadata": {
    "colab": {
     "base_uri": "https://localhost:8080/"
    },
    "id": "1LIizkI2SShh",
    "outputId": "277f4fbc-cac8-456a-e671-eda234d57f0c"
   },
   "outputs": [],
   "source": [
    "tanh_act.summary()"
   ]
  },
  {
   "cell_type": "code",
   "execution_count": null,
   "metadata": {
    "colab": {
     "base_uri": "https://localhost:8080/"
    },
    "id": "jjPUgCUVSYPT",
    "outputId": "a56f88e7-f60a-4659-a0c2-a631be091d04"
   },
   "outputs": [],
   "source": [
    "sigmoid_act.summary()"
   ]
  },
  {
   "cell_type": "code",
   "execution_count": null,
   "metadata": {
    "colab": {
     "base_uri": "https://localhost:8080/"
    },
    "id": "IdvQuGWvSbsm",
    "outputId": "f4eedb25-7288-41c9-e6e9-8eb06d16ba8a"
   },
   "outputs": [],
   "source": [
    "scalar_mult.summary()"
   ]
  },
  {
   "cell_type": "code",
   "execution_count": null,
   "metadata": {
    "colab": {
     "base_uri": "https://localhost:8080/"
    },
    "id": "eeKOcyyrSqJg",
    "outputId": "5dbeb1be-dd5f-4c08-88e3-f8a0a44347d4"
   },
   "outputs": [],
   "source": [
    "small_dense.summary()"
   ]
  },
  {
   "cell_type": "code",
   "execution_count": null,
   "metadata": {
    "colab": {
     "base_uri": "https://localhost:8080/"
    },
    "id": "ANDbMUZISt14",
    "outputId": "e5297cf2-792d-45d1-fa9b-65e855e292ce"
   },
   "outputs": [],
   "source": [
    "big_dense.summary()"
   ]
  },
  {
   "cell_type": "code",
   "execution_count": null,
   "metadata": {
    "colab": {
     "base_uri": "https://localhost:8080/"
    },
    "id": "dPqQH5zoS0zI",
    "outputId": "1dda0d93-78ef-4475-8a44-e01660fdf951"
   },
   "outputs": [],
   "source": [
    "simple_conv2d.summary()"
   ]
  },
  {
   "cell_type": "code",
   "execution_count": null,
   "metadata": {
    "colab": {
     "base_uri": "https://localhost:8080/"
    },
    "id": "XjZdM_V3TCHw",
    "outputId": "db7ba9f4-dc42-4f28-e2cd-29114f0642c9"
   },
   "outputs": [],
   "source": [
    "strided_conv2d.summary()"
   ]
  },
  {
   "cell_type": "code",
   "execution_count": null,
   "metadata": {
    "colab": {
     "base_uri": "https://localhost:8080/"
    },
    "id": "oJ94bUPnTIpV",
    "outputId": "3fdb9214-5da5-4a79-a600-bf4960f1d0d9"
   },
   "outputs": [],
   "source": [
    "dilated_conv2d.summary()"
   ]
  },
  {
   "cell_type": "code",
   "execution_count": null,
   "metadata": {
    "colab": {
     "base_uri": "https://localhost:8080/"
    },
    "id": "mUgEY74jTMMQ",
    "outputId": "6cad51b4-3f8d-442b-d056-5bd3087f828f"
   },
   "outputs": [],
   "source": [
    "small_conv2d.summary()"
   ]
  },
  {
   "cell_type": "code",
   "execution_count": null,
   "metadata": {
    "colab": {
     "base_uri": "https://localhost:8080/"
    },
    "id": "vi_su7zlTR03",
    "outputId": "61d34367-0d7e-41e4-c942-bdaa1b7970f0"
   },
   "outputs": [],
   "source": [
    "big_conv2d.summary()"
   ]
  },
  {
   "cell_type": "code",
   "execution_count": null,
   "metadata": {
    "colab": {
     "base_uri": "https://localhost:8080/"
    },
    "id": "RtOgM2c4nfLl",
    "outputId": "d0725023-ad2d-4829-f189-cd657739d504"
   },
   "outputs": [],
   "source": [
    "few_conv2d.summary()"
   ]
  },
  {
   "cell_type": "code",
   "execution_count": null,
   "metadata": {
    "colab": {
     "base_uri": "https://localhost:8080/"
    },
    "id": "Mv_9L3KHnkrn",
    "outputId": "9e488a24-82ee-4cbe-e00c-dd472374f0a1"
   },
   "outputs": [],
   "source": [
    "many_conv2d.summary()"
   ]
  },
  {
   "cell_type": "markdown",
   "metadata": {},
   "source": [
    "tf Modelle fuer OpenVino speichern:"
   ]
  },
  {
   "cell_type": "code",
   "execution_count": null,
   "metadata": {},
   "outputs": [],
   "source": [
    "def save_m(model):\n",
    "    model.save(os.path.join(\".\",\"tf_models\", model.name))"
   ]
  },
  {
   "cell_type": "code",
   "execution_count": null,
   "metadata": {},
   "outputs": [],
   "source": [
    "save_m(relu_act)\n",
    "save_m(leaky_relu_act)\n",
    "save_m(tanh_act)\n",
    "save_m(sigmoid_act)\n",
    "save_m(scalar_mult)\n",
    "save_m(small_dense)\n",
    "save_m(big_dense)\n",
    "save_m(simple_conv2d)\n",
    "save_m(strided_conv2d)\n",
    "save_m(dilated_conv2d)\n",
    "save_m(small_conv2d)\n",
    "save_m(big_conv2d)\n",
    "save_m(many_conv2d)\n",
    "save_m(few_conv2d)"
   ]
  },
  {
   "cell_type": "markdown",
   "metadata": {},
   "source": [
    "Konvertierung von Tensorflow-Datei in Intermediat Representation\n",
    "https://docs.openvino.ai/latest/openvino_docs_MO_DG_prepare_model_convert_model_Convert_Model_From_TensorFlow.html#"
   ]
  },
  {
   "cell_type": "code",
   "execution_count": null,
   "metadata": {},
   "outputs": [],
   "source": [
    "\n",
    "if os.uname().sysname==\"Linux\":\n",
    "    openvino_location='/opt/intel/openvino_2021/deployment_tools/model_optimizer/mo_tf.py'\n",
    "else:\n",
    "    print(\"Ich weiss nicht, wo die openVINO-Location bei Windows ist.\")\n",
    "\n",
    "dir_model=\"tf_models\"\n",
    "dir_new=\"openvino_models\"\n",
    "\n",
    "def get_convert_model_command(name):\n",
    "    convert_command=\"python3 \"+openvino_location\n",
    "    convert_command+=\" --saved_model_dir \"+os.path.join(\".\",dir_model,name) # tf Modell laden\n",
    "    convert_command+=\" --output_dir \"+os.path.join(\".\",dir_new,name) # Ordner des konvertierten Modells\n",
    "    convert_command+=\" -n model \" # setzen des Netzwerknamens\n",
    "    convert_command+=\"--data_type=FP16 \" # Vorraussetzung Myriad-Stick?   \n",
    "    #convert_command+=\" --input_shape [512,3,128,128]\" # input shape\n",
    "    return convert_command"
   ]
  },
  {
   "cell_type": "markdown",
   "metadata": {},
   "source": [
    "Im folgende führe ich das Kommando über os.system aus:"
   ]
  },
  {
   "cell_type": "code",
   "execution_count": null,
   "metadata": {},
   "outputs": [],
   "source": [
    "os.system(get_convert_model_command(\"relu_act\"))\n",
    "os.system(get_convert_model_command(\"leaky_relu_act\"))\n",
    "os.system(get_convert_model_command(\"tanh_act\"))\n",
    "os.system(get_convert_model_command(\"sigmoid_act\"))\n",
    "os.system(get_convert_model_command(\"scalar_mult\"))\n",
    "os.system(get_convert_model_command(\"small_dense\"))\n",
    "os.system(get_convert_model_command(\"big_dense\"))\n",
    "os.system(get_convert_model_command(\"simple_conv2d\"))\n",
    "os.system(get_convert_model_command(\"strided_conv2d\"))\n",
    "os.system(get_convert_model_command(\"dilated_conv2d\"))\n",
    "os.system(get_convert_model_command(\"small_conv2d\"))\n",
    "os.system(get_convert_model_command(\"big_conv2d\"))\n",
    "os.system(get_convert_model_command(\"many_conv2d\"))\n",
    "os.system(get_convert_model_command(\"few_conv2d\"))"
   ]
  },
  {
   "cell_type": "markdown",
   "metadata": {},
   "source": [
    "Als Befehle:"
   ]
  },
  {
   "cell_type": "code",
   "execution_count": null,
   "metadata": {},
   "outputs": [],
   "source": [
    "! python3 /opt/intel/openvino_2021/deployment_tools/model_optimizer/mo_tf.py --saved_model_dir ./tf_models/relu_act --output_dir ./openvino_models/relu_act -n model --data_type=FP16 \n",
    "! python3 /opt/intel/openvino_2021/deployment_tools/model_optimizer/mo_tf.py --saved_model_dir ./tf_models/leaky_relu_act --output_dir ./openvino_models/leaky_relu_act -n model --data_type=FP16 \n",
    "! python3 /opt/intel/openvino_2021/deployment_tools/model_optimizer/mo_tf.py --saved_model_dir ./tf_models/tanh_act --output_dir ./openvino_models/tanh_act -n model --data_type=FP16 \n",
    "! python3 /opt/intel/openvino_2021/deployment_tools/model_optimizer/mo_tf.py --saved_model_dir ./tf_models/sigmoid_act --output_dir ./openvino_models/sigmoid_act -n model --data_type=FP16 \n",
    "! python3 /opt/intel/openvino_2021/deployment_tools/model_optimizer/mo_tf.py --saved_model_dir ./tf_models/scalar_mult --output_dir ./openvino_models/scalar_mult -n model --data_type=FP16 \n",
    "! python3 /opt/intel/openvino_2021/deployment_tools/model_optimizer/mo_tf.py --saved_model_dir ./tf_models/small_dense --output_dir ./openvino_models/small_dense -n model --data_type=FP16 \n",
    "! python3 /opt/intel/openvino_2021/deployment_tools/model_optimizer/mo_tf.py --saved_model_dir ./tf_models/big_dense --output_dir ./openvino_models/big_dense -n model --data_type=FP16 \n",
    "! python3 /opt/intel/openvino_2021/deployment_tools/model_optimizer/mo_tf.py --saved_model_dir ./tf_models/simple_conv2d --output_dir ./openvino_models/simple_conv2d -n model --data_type=FP16 \n",
    "! python3 /opt/intel/openvino_2021/deployment_tools/model_optimizer/mo_tf.py --saved_model_dir ./tf_models/strided_conv2d --output_dir ./openvino_models/strided_conv2d -n model --data_type=FP16 \n",
    "! python3 /opt/intel/openvino_2021/deployment_tools/model_optimizer/mo_tf.py --saved_model_dir ./tf_models/dilated_conv2d --output_dir ./openvino_models/dilated_conv2d -n model --data_type=FP16 \n",
    "! python3 /opt/intel/openvino_2021/deployment_tools/model_optimizer/mo_tf.py --saved_model_dir ./tf_models/small_conv2d --output_dir ./openvino_models/small_conv2d -n model --data_type=FP16 \n",
    "! python3 /opt/intel/openvino_2021/deployment_tools/model_optimizer/mo_tf.py --saved_model_dir ./tf_models/big_conv2d --output_dir ./openvino_models/big_conv2d -n model --data_type=FP16 \n",
    "! python3 /opt/intel/openvino_2021/deployment_tools/model_optimizer/mo_tf.py --saved_model_dir ./tf_models/many_conv2d --output_dir ./openvino_models/many_conv2d -n model --data_type=FP16 \n",
    "! python3 /opt/intel/openvino_2021/deployment_tools/model_optimizer/mo_tf.py --saved_model_dir ./tf_models/few_conv2d --output_dir ./openvino_models/few_conv2d -n model --data_type=FP16 "
   ]
  },
  {
   "cell_type": "markdown",
   "metadata": {},
   "source": [
    "Start Openvino: "
   ]
  },
  {
   "cell_type": "code",
   "execution_count": null,
   "metadata": {},
   "outputs": [],
   "source": [
    "infCore=IECore()\n",
    "models_openvino=os.path.join(\".\",\"openvino_models\")\n",
    "#target=\"GPU\"\n",
    "target=\"CPU\"\n",
    "#target=\"MYRIAD\"\n",
    "\n",
    "#iterations=32\n",
    "iterations=8 \n",
    "\n",
    "def startNet(name):\n",
    "    model_path=os.path.join(models_openvino,name,\"model.xml\")\n",
    "    weights_path=os.path.join(models_openvino,name,\"model.bin\")\n",
    "    n=infCore.read_network(model=model_path,weights=weights_path)\n",
    "    netw=infCore.load_network(network=n,device_name=target,num_requests=iterations)\n",
    "    return netw\n",
    "\n",
    "\n",
    "#np.float16.\n",
    "#data=np.zeros([512,3,128,128],dtype=np.float16)-np.float16(1)"
   ]
  },
  {
   "cell_type": "markdown",
   "metadata": {},
   "source": [
    "Netze laden:"
   ]
  },
  {
   "cell_type": "code",
   "execution_count": null,
   "metadata": {},
   "outputs": [],
   "source": [
    "relu_act_openvino=startNet(\"relu_act\")\n",
    "leaky_relu_act_openvino=startNet(\"leaky_relu_act\")\n",
    "tanh_act_openvino=startNet(\"tanh_act\")\n",
    "sigmoid_act_openvino=startNet(\"sigmoid_act\")\n",
    "scalar_mult_openvino=startNet(\"scalar_mult\")\n",
    "small_dense_openvino=startNet(\"small_dense\")\n",
    "big_dense_openvino=startNet(\"big_dense\")\n",
    "simple_conv2d_openvino=startNet(\"simple_conv2d\")\n",
    "strided_conv2d_openvino=startNet(\"strided_conv2d\")\n",
    "dilated_conv2d_openvino=startNet(\"dilated_conv2d\")\n",
    "small_conv2d_openvino=startNet(\"small_conv2d\")\n",
    "big_conv2d_openvino=startNet(\"big_conv2d\")\n",
    "many_conv2d_openvino=startNet(\"many_conv2d\")\n",
    "few_conv2d_openvino=startNet(\"few_conv2d\")\n"
   ]
  },
  {
   "cell_type": "markdown",
   "metadata": {},
   "source": [
    "Netzwerk auswaehlen, Daten generieren(verbesserungswuerdig):"
   ]
  },
  {
   "cell_type": "code",
   "execution_count": null,
   "metadata": {},
   "outputs": [],
   "source": [
    "loaded_net=small_dense_openvino\n",
    "#network_input=\"input_1\"\n",
    "network_input=next(iter(loaded_net.input_info))\n",
    "\n",
    "#data=(np.random.random([iterations,512,3,128,128])-0.5)*8\n",
    "data=(np.random.random([iterations,512,128])-0.5)*8\n",
    "#fallunterscheidung fuer input shapes benoetigt\n",
    "print(network_input)"
   ]
  },
  {
   "cell_type": "markdown",
   "metadata": {},
   "source": [
    "synchron:"
   ]
  },
  {
   "cell_type": "code",
   "execution_count": null,
   "metadata": {},
   "outputs": [],
   "source": [
    "res2=[]\n",
    "for i in range(iterations):\n",
    "    #measure time start \n",
    "    res2.append(loaded_net.infer({network_input:data[i]}))\n",
    "    #loaded_net.infer({network_input:data[i]})\n",
    "    #measure time end\n"
   ]
  },
  {
   "cell_type": "markdown",
   "metadata": {},
   "source": [
    "asynchron:"
   ]
  },
  {
   "cell_type": "code",
   "execution_count": null,
   "metadata": {},
   "outputs": [],
   "source": [
    "res=[]\n",
    "#measure time start \n",
    "for i in range(iterations):\n",
    "    r=loaded_net.start_async(request_id=i,inputs={network_input:data[i]})\n",
    "    res.append(r)\n",
    "\n",
    "\n",
    "#loaded_net.wait() #entweder das oder die for-Schleife:\n",
    "\n",
    "for x in res:\n",
    "    x.wait()\n",
    "#measure time end"
   ]
  }
 ],
 "metadata": {
  "colab": {
   "authorship_tag": "ABX9TyOiXPnRwcu63AOwc/shlBPp",
   "collapsed_sections": [],
   "include_colab_link": true,
   "name": "ai_hardware_accelerators.ipynb",
   "provenance": []
  },
  "kernelspec": {
   "display_name": "Python 3 (ipykernel)",
   "language": "python",
   "name": "python3"
  },
  "language_info": {
   "codemirror_mode": {
    "name": "ipython",
    "version": 3
   },
   "file_extension": ".py",
   "mimetype": "text/x-python",
   "name": "python",
   "nbconvert_exporter": "python",
   "pygments_lexer": "ipython3",
   "version": "3.8.10"
  }
 },
 "nbformat": 4,
 "nbformat_minor": 1
}
